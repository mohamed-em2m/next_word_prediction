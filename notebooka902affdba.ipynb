{
 "cells": [
  {
   "cell_type": "code",
   "execution_count": 1,
   "id": "f441eab3",
   "metadata": {
    "execution": {
     "iopub.execute_input": "2023-07-03T18:35:49.384842Z",
     "iopub.status.busy": "2023-07-03T18:35:49.384415Z",
     "iopub.status.idle": "2023-07-03T18:35:49.395979Z",
     "shell.execute_reply": "2023-07-03T18:35:49.395148Z"
    },
    "papermill": {
     "duration": 0.030407,
     "end_time": "2023-07-03T18:35:49.398135",
     "exception": false,
     "start_time": "2023-07-03T18:35:49.367728",
     "status": "completed"
    },
    "tags": []
   },
   "outputs": [],
   "source": [
    "import warnings\n",
    "warnings.filterwarnings('ignore')"
   ]
  },
  {
   "cell_type": "code",
   "execution_count": 2,
   "id": "1dfab2ae",
   "metadata": {
    "_cell_guid": "b1076dfc-b9ad-4769-8c92-a6c4dae69d19",
    "_uuid": "8f2839f25d086af736a60e9eeb907d3b93b6e0e5",
    "execution": {
     "iopub.execute_input": "2023-07-03T18:35:49.428858Z",
     "iopub.status.busy": "2023-07-03T18:35:49.428530Z",
     "iopub.status.idle": "2023-07-03T18:35:49.433997Z",
     "shell.execute_reply": "2023-07-03T18:35:49.433164Z"
    },
    "id": "b6d11N0S2qMc",
    "papermill": {
     "duration": 0.023344,
     "end_time": "2023-07-03T18:35:49.436138",
     "exception": false,
     "start_time": "2023-07-03T18:35:49.412794",
     "status": "completed"
    },
    "tags": []
   },
   "outputs": [],
   "source": [
    "# This Python 3 environment comes with many helpful analytics libraries installed\n",
    "# It is defined by the kaggle/python Docker image: https://github.com/kaggle/docker-python\n",
    "# For example, here's several helpful packages to load\n",
    "\n",
    "import numpy as np # linear algebra\n",
    "import pandas as pd # data processing, CSV file I/O (e.g. pd.read_csv)\n",
    "\n",
    "# Input data files are available in the read-only \"../input/\" directory\n",
    "# For example, running this (by clicking run or pressing Shift+Enter) will list all files under the input directory\n",
    "\n",
    "import os\n",
    "os.environ['CUDA_LAUNCH_BLOCKING'] = '1'\n",
    "\n",
    "# You can write up to 20GB to the current directory (/kaggle/working/) that gets preserved as output when you create a version using \"Save & Run All\"\n",
    "# You can also write temporary files to /kaggle/temp/, but they won't be saved outside of the current session"
   ]
  },
  {
   "cell_type": "code",
   "execution_count": 3,
   "id": "6725ef85",
   "metadata": {
    "execution": {
     "iopub.execute_input": "2023-07-03T18:35:49.470151Z",
     "iopub.status.busy": "2023-07-03T18:35:49.469807Z",
     "iopub.status.idle": "2023-07-03T18:35:53.479387Z",
     "shell.execute_reply": "2023-07-03T18:35:53.478445Z"
    },
    "id": "1NnHIerL2qMf",
    "papermill": {
     "duration": 4.030231,
     "end_time": "2023-07-03T18:35:53.481712",
     "exception": false,
     "start_time": "2023-07-03T18:35:49.451481",
     "status": "completed"
    },
    "tags": []
   },
   "outputs": [],
   "source": [
    "import torch\n",
    "import torch.nn as nn\n",
    "import torchtext"
   ]
  },
  {
   "cell_type": "code",
   "execution_count": 4,
   "id": "616c0dde",
   "metadata": {
    "execution": {
     "iopub.execute_input": "2023-07-03T18:35:53.513007Z",
     "iopub.status.busy": "2023-07-03T18:35:53.511997Z",
     "iopub.status.idle": "2023-07-03T18:35:55.235607Z",
     "shell.execute_reply": "2023-07-03T18:35:55.234680Z"
    },
    "id": "jtAc7jSV2qMg",
    "papermill": {
     "duration": 1.741664,
     "end_time": "2023-07-03T18:35:55.238104",
     "exception": false,
     "start_time": "2023-07-03T18:35:53.496440",
     "status": "completed"
    },
    "tags": []
   },
   "outputs": [],
   "source": [
    "from gensim.utils import simple_preprocess\n",
    "from gensim.models import Word2Vec\n",
    "from   torchtext.vocab import FastText\n",
    "import nltk\n",
    "from nltk import ngrams"
   ]
  },
  {
   "cell_type": "code",
   "execution_count": 5,
   "id": "87a4c2fe",
   "metadata": {
    "execution": {
     "iopub.execute_input": "2023-07-03T18:35:55.269456Z",
     "iopub.status.busy": "2023-07-03T18:35:55.269121Z",
     "iopub.status.idle": "2023-07-03T18:35:55.273413Z",
     "shell.execute_reply": "2023-07-03T18:35:55.272484Z"
    },
    "papermill": {
     "duration": 0.021862,
     "end_time": "2023-07-03T18:35:55.275346",
     "exception": false,
     "start_time": "2023-07-03T18:35:55.253484",
     "status": "completed"
    },
    "tags": []
   },
   "outputs": [],
   "source": [
    "path=\"/kaggle/input/medium-articles/articles.csv\""
   ]
  },
  {
   "cell_type": "code",
   "execution_count": 6,
   "id": "ac5c250b",
   "metadata": {
    "execution": {
     "iopub.execute_input": "2023-07-03T18:35:55.305194Z",
     "iopub.status.busy": "2023-07-03T18:35:55.304900Z",
     "iopub.status.idle": "2023-07-03T18:35:55.406385Z",
     "shell.execute_reply": "2023-07-03T18:35:55.405453Z"
    },
    "id": "7hCvQgXd2qMh",
    "papermill": {
     "duration": 0.119063,
     "end_time": "2023-07-03T18:35:55.408727",
     "exception": false,
     "start_time": "2023-07-03T18:35:55.289664",
     "status": "completed"
    },
    "tags": []
   },
   "outputs": [],
   "source": [
    "\n",
    "data=pd.read_csv(path)['text']"
   ]
  },
  {
   "cell_type": "code",
   "execution_count": 7,
   "id": "60c95711",
   "metadata": {
    "execution": {
     "iopub.execute_input": "2023-07-03T18:35:55.439500Z",
     "iopub.status.busy": "2023-07-03T18:35:55.439136Z",
     "iopub.status.idle": "2023-07-03T18:35:56.959268Z",
     "shell.execute_reply": "2023-07-03T18:35:56.958232Z"
    },
    "id": "LDcRvKRh2qMh",
    "papermill": {
     "duration": 1.53806,
     "end_time": "2023-07-03T18:35:56.961632",
     "exception": false,
     "start_time": "2023-07-03T18:35:55.423572",
     "status": "completed"
    },
    "tags": []
   },
   "outputs": [],
   "source": [
    "data=data.apply(lambda x:simple_preprocess(x))"
   ]
  },
  {
   "cell_type": "code",
   "execution_count": 8,
   "id": "98556c74",
   "metadata": {
    "execution": {
     "iopub.execute_input": "2023-07-03T18:35:56.995580Z",
     "iopub.status.busy": "2023-07-03T18:35:56.995262Z",
     "iopub.status.idle": "2023-07-03T18:35:57.047315Z",
     "shell.execute_reply": "2023-07-03T18:35:57.045504Z"
    },
    "id": "odEeHKwj2qMi",
    "outputId": "06cfb0a6-b75b-438b-fd36-43a76f8be3e0",
    "papermill": {
     "duration": 0.072289,
     "end_time": "2023-07-03T18:35:57.051835",
     "exception": false,
     "start_time": "2023-07-03T18:35:56.979546",
     "status": "completed"
    },
    "tags": []
   },
   "outputs": [],
   "source": [
    "data1=pd.read_csv(path)['text']"
   ]
  },
  {
   "cell_type": "code",
   "execution_count": 9,
   "id": "e6e36736",
   "metadata": {
    "execution": {
     "iopub.execute_input": "2023-07-03T18:35:57.105406Z",
     "iopub.status.busy": "2023-07-03T18:35:57.105008Z",
     "iopub.status.idle": "2023-07-03T18:35:57.110928Z",
     "shell.execute_reply": "2023-07-03T18:35:57.109985Z"
    },
    "papermill": {
     "duration": 0.037122,
     "end_time": "2023-07-03T18:35:57.113796",
     "exception": false,
     "start_time": "2023-07-03T18:35:57.076674",
     "status": "completed"
    },
    "tags": []
   },
   "outputs": [],
   "source": [
    "from collections import defaultdict\n"
   ]
  },
  {
   "cell_type": "code",
   "execution_count": 10,
   "id": "0e6ec2f1",
   "metadata": {
    "execution": {
     "iopub.execute_input": "2023-07-03T18:35:57.154719Z",
     "iopub.status.busy": "2023-07-03T18:35:57.154427Z",
     "iopub.status.idle": "2023-07-03T18:36:06.438020Z",
     "shell.execute_reply": "2023-07-03T18:36:06.436850Z"
    },
    "id": "RzsxJFrs2qMk",
    "papermill": {
     "duration": 9.303297,
     "end_time": "2023-07-03T18:36:06.440528",
     "exception": false,
     "start_time": "2023-07-03T18:35:57.137231",
     "status": "completed"
    },
    "tags": []
   },
   "outputs": [],
   "source": [
    "\n",
    "vocab=defaultdict(int)\n",
    "inx_word=defaultdict(lambda x: 'oov')\n",
    "num=1\n",
    "for i in range(len(data)):\n",
    "    for o in range(len(data[i])):\n",
    "        if data[i][o] not in vocab :\n",
    "                 vocab[data[i][o]]=num\n",
    "                 inx_word[num]=data[i][o]\n",
    "                 num+=1\n",
    "        data[i][o]   =  vocab[data[i][o]]"
   ]
  },
  {
   "cell_type": "code",
   "execution_count": 11,
   "id": "3e0a3764",
   "metadata": {
    "execution": {
     "iopub.execute_input": "2023-07-03T18:36:06.471315Z",
     "iopub.status.busy": "2023-07-03T18:36:06.470985Z",
     "iopub.status.idle": "2023-07-03T18:36:06.693199Z",
     "shell.execute_reply": "2023-07-03T18:36:06.692238Z"
    },
    "id": "agU3KCHM2qMk",
    "papermill": {
     "duration": 0.240351,
     "end_time": "2023-07-03T18:36:06.695728",
     "exception": false,
     "start_time": "2023-07-03T18:36:06.455377",
     "status": "completed"
    },
    "tags": []
   },
   "outputs": [],
   "source": [
    "d4=data.apply(lambda x:list(ngrams(x,4, pad_left=True,left_pad_symbol=0)))"
   ]
  },
  {
   "cell_type": "code",
   "execution_count": 12,
   "id": "36e39df6",
   "metadata": {
    "execution": {
     "iopub.execute_input": "2023-07-03T18:36:06.726867Z",
     "iopub.status.busy": "2023-07-03T18:36:06.726549Z",
     "iopub.status.idle": "2023-07-03T18:36:07.068096Z",
     "shell.execute_reply": "2023-07-03T18:36:07.066986Z"
    },
    "id": "MVOPWY-X2qMl",
    "papermill": {
     "duration": 0.360608,
     "end_time": "2023-07-03T18:36:07.071457",
     "exception": false,
     "start_time": "2023-07-03T18:36:06.710849",
     "status": "completed"
    },
    "tags": []
   },
   "outputs": [],
   "source": [
    "x=[]\n",
    "y=[]\n",
    "for row in range(len(d4)):\n",
    "    for col in d4[row]:\n",
    "        if not (col[1]==0 ):\n",
    "                    x.append(col[:-1])\n",
    "                    y.append(col[-1])"
   ]
  },
  {
   "cell_type": "code",
   "execution_count": 13,
   "id": "0e127fb9",
   "metadata": {
    "execution": {
     "iopub.execute_input": "2023-07-03T18:36:07.124112Z",
     "iopub.status.busy": "2023-07-03T18:36:07.123623Z",
     "iopub.status.idle": "2023-07-03T18:36:07.363242Z",
     "shell.execute_reply": "2023-07-03T18:36:07.362241Z"
    },
    "papermill": {
     "duration": 0.267647,
     "end_time": "2023-07-03T18:36:07.365755",
     "exception": false,
     "start_time": "2023-07-03T18:36:07.098108",
     "status": "completed"
    },
    "tags": []
   },
   "outputs": [],
   "source": [
    "d5=data.apply(lambda x:list(ngrams(x,5, pad_left=True,left_pad_symbol=0)))"
   ]
  },
  {
   "cell_type": "code",
   "execution_count": 14,
   "id": "6291d628",
   "metadata": {
    "execution": {
     "iopub.execute_input": "2023-07-03T18:36:07.396549Z",
     "iopub.status.busy": "2023-07-03T18:36:07.396218Z",
     "iopub.status.idle": "2023-07-03T18:36:07.745528Z",
     "shell.execute_reply": "2023-07-03T18:36:07.744556Z"
    },
    "papermill": {
     "duration": 0.367384,
     "end_time": "2023-07-03T18:36:07.747837",
     "exception": false,
     "start_time": "2023-07-03T18:36:07.380453",
     "status": "completed"
    },
    "tags": []
   },
   "outputs": [],
   "source": [
    "x5=[]\n",
    "y5=[]\n",
    "for row in range(len(d5)):\n",
    "    for col in d5[row]:\n",
    "        if not (  col[2]==0):\n",
    "                    x5.append(col[:-1])\n",
    "                    y5.append(col[-1])"
   ]
  },
  {
   "cell_type": "code",
   "execution_count": 15,
   "id": "3bceae07",
   "metadata": {
    "execution": {
     "iopub.execute_input": "2023-07-03T18:36:07.778433Z",
     "iopub.status.busy": "2023-07-03T18:36:07.778088Z",
     "iopub.status.idle": "2023-07-03T18:36:08.011141Z",
     "shell.execute_reply": "2023-07-03T18:36:08.010211Z"
    },
    "papermill": {
     "duration": 0.251077,
     "end_time": "2023-07-03T18:36:08.013572",
     "exception": false,
     "start_time": "2023-07-03T18:36:07.762495",
     "status": "completed"
    },
    "tags": []
   },
   "outputs": [],
   "source": [
    "d6=data.apply(lambda x:list(ngrams(x,6, pad_left=True,left_pad_symbol=0)))"
   ]
  },
  {
   "cell_type": "code",
   "execution_count": 16,
   "id": "e45672cd",
   "metadata": {
    "execution": {
     "iopub.execute_input": "2023-07-03T18:36:08.045144Z",
     "iopub.status.busy": "2023-07-03T18:36:08.044724Z",
     "iopub.status.idle": "2023-07-03T18:36:08.393527Z",
     "shell.execute_reply": "2023-07-03T18:36:08.392542Z"
    },
    "papermill": {
     "duration": 0.367857,
     "end_time": "2023-07-03T18:36:08.396024",
     "exception": false,
     "start_time": "2023-07-03T18:36:08.028167",
     "status": "completed"
    },
    "tags": []
   },
   "outputs": [],
   "source": [
    "x6=[]\n",
    "y6=[]\n",
    "for row in range(len(d6)):\n",
    "    for col in d6[row]:\n",
    "        if not (  col[3]==0):\n",
    "                    x6.append(col[:-1])\n",
    "                    y6.append(col[-1])"
   ]
  },
  {
   "cell_type": "code",
   "execution_count": 17,
   "id": "e1854e32",
   "metadata": {
    "execution": {
     "iopub.execute_input": "2023-07-03T18:36:08.426192Z",
     "iopub.status.busy": "2023-07-03T18:36:08.425872Z",
     "iopub.status.idle": "2023-07-03T18:36:08.664170Z",
     "shell.execute_reply": "2023-07-03T18:36:08.663216Z"
    },
    "papermill": {
     "duration": 0.256035,
     "end_time": "2023-07-03T18:36:08.666589",
     "exception": false,
     "start_time": "2023-07-03T18:36:08.410554",
     "status": "completed"
    },
    "tags": []
   },
   "outputs": [],
   "source": [
    "d7=data.apply(lambda x:list(ngrams(x,7, pad_left=True,left_pad_symbol=0)))"
   ]
  },
  {
   "cell_type": "code",
   "execution_count": 18,
   "id": "1768cce2",
   "metadata": {
    "execution": {
     "iopub.execute_input": "2023-07-03T18:36:08.698462Z",
     "iopub.status.busy": "2023-07-03T18:36:08.696790Z",
     "iopub.status.idle": "2023-07-03T18:36:09.068064Z",
     "shell.execute_reply": "2023-07-03T18:36:09.067145Z"
    },
    "papermill": {
     "duration": 0.389855,
     "end_time": "2023-07-03T18:36:09.070995",
     "exception": false,
     "start_time": "2023-07-03T18:36:08.681140",
     "status": "completed"
    },
    "tags": []
   },
   "outputs": [],
   "source": [
    "x7=[]\n",
    "y7=[]\n",
    "for row in range(len(d7)):\n",
    "    for col in d7[row]:\n",
    "        if not (  col[4]==0):\n",
    "                    x7.append(col[:-1])\n",
    "                    y7.append(col[-1])"
   ]
  },
  {
   "cell_type": "code",
   "execution_count": 19,
   "id": "65f255a3",
   "metadata": {
    "execution": {
     "iopub.execute_input": "2023-07-03T18:36:09.101409Z",
     "iopub.status.busy": "2023-07-03T18:36:09.101082Z",
     "iopub.status.idle": "2023-07-03T18:36:13.041165Z",
     "shell.execute_reply": "2023-07-03T18:36:13.040230Z"
    },
    "id": "KB2Uq5TW2qMm",
    "papermill": {
     "duration": 3.958097,
     "end_time": "2023-07-03T18:36:13.043649",
     "exception": false,
     "start_time": "2023-07-03T18:36:09.085552",
     "status": "completed"
    },
    "tags": []
   },
   "outputs": [],
   "source": [
    "x=torch.tensor(x).cuda()\n",
    "y=torch.tensor(y).cuda()"
   ]
  },
  {
   "cell_type": "code",
   "execution_count": 20,
   "id": "a5dc4d1b",
   "metadata": {
    "execution": {
     "iopub.execute_input": "2023-07-03T18:36:13.077512Z",
     "iopub.status.busy": "2023-07-03T18:36:13.077167Z",
     "iopub.status.idle": "2023-07-03T18:36:14.648103Z",
     "shell.execute_reply": "2023-07-03T18:36:14.647144Z"
    },
    "papermill": {
     "duration": 1.591663,
     "end_time": "2023-07-03T18:36:14.650496",
     "exception": false,
     "start_time": "2023-07-03T18:36:13.058833",
     "status": "completed"
    },
    "tags": []
   },
   "outputs": [],
   "source": [
    "x7=torch.tensor(x7).cuda()\n",
    "y7=torch.tensor(y7).cuda()"
   ]
  },
  {
   "cell_type": "code",
   "execution_count": 21,
   "id": "905a5390",
   "metadata": {
    "execution": {
     "iopub.execute_input": "2023-07-03T18:36:14.681003Z",
     "iopub.status.busy": "2023-07-03T18:36:14.680702Z",
     "iopub.status.idle": "2023-07-03T18:36:15.882214Z",
     "shell.execute_reply": "2023-07-03T18:36:15.881210Z"
    },
    "papermill": {
     "duration": 1.219152,
     "end_time": "2023-07-03T18:36:15.884593",
     "exception": false,
     "start_time": "2023-07-03T18:36:14.665441",
     "status": "completed"
    },
    "tags": []
   },
   "outputs": [],
   "source": [
    "x5=torch.tensor(x5).cuda()\n",
    "y5=torch.tensor(y5).cuda()"
   ]
  },
  {
   "cell_type": "code",
   "execution_count": 22,
   "id": "2a80f384",
   "metadata": {
    "execution": {
     "iopub.execute_input": "2023-07-03T18:36:15.915285Z",
     "iopub.status.busy": "2023-07-03T18:36:15.914935Z",
     "iopub.status.idle": "2023-07-03T18:36:15.922656Z",
     "shell.execute_reply": "2023-07-03T18:36:15.921967Z"
    },
    "id": "p6HODyZx2qMm",
    "papermill": {
     "duration": 0.025214,
     "end_time": "2023-07-03T18:36:15.924464",
     "exception": false,
     "start_time": "2023-07-03T18:36:15.899250",
     "status": "completed"
    },
    "tags": []
   },
   "outputs": [],
   "source": [
    "x5=torch.tensor(x5).cuda()\n",
    "y5=torch.tensor(y5).cuda()"
   ]
  },
  {
   "cell_type": "code",
   "execution_count": 23,
   "id": "d2ad261f",
   "metadata": {
    "execution": {
     "iopub.execute_input": "2023-07-03T18:36:15.954395Z",
     "iopub.status.busy": "2023-07-03T18:36:15.953820Z",
     "iopub.status.idle": "2023-07-03T18:36:17.521419Z",
     "shell.execute_reply": "2023-07-03T18:36:17.520455Z"
    },
    "papermill": {
     "duration": 1.585129,
     "end_time": "2023-07-03T18:36:17.523823",
     "exception": false,
     "start_time": "2023-07-03T18:36:15.938694",
     "status": "completed"
    },
    "tags": []
   },
   "outputs": [],
   "source": [
    "x6=torch.tensor(x6).cuda()\n",
    "y6=torch.tensor(y6).cuda()"
   ]
  },
  {
   "cell_type": "code",
   "execution_count": 24,
   "id": "2c02efb0",
   "metadata": {
    "execution": {
     "iopub.execute_input": "2023-07-03T18:36:17.555305Z",
     "iopub.status.busy": "2023-07-03T18:36:17.553743Z",
     "iopub.status.idle": "2023-07-03T18:36:17.558961Z",
     "shell.execute_reply": "2023-07-03T18:36:17.558120Z"
    },
    "id": "r8EXCO8a2qMn",
    "papermill": {
     "duration": 0.022576,
     "end_time": "2023-07-03T18:36:17.560945",
     "exception": false,
     "start_time": "2023-07-03T18:36:17.538369",
     "status": "completed"
    },
    "tags": []
   },
   "outputs": [],
   "source": [
    "from torch.utils.data import Dataset ,DataLoader"
   ]
  },
  {
   "cell_type": "code",
   "execution_count": 25,
   "id": "6444d323",
   "metadata": {
    "execution": {
     "iopub.execute_input": "2023-07-03T18:36:17.590406Z",
     "iopub.status.busy": "2023-07-03T18:36:17.590100Z",
     "iopub.status.idle": "2023-07-03T18:36:17.595681Z",
     "shell.execute_reply": "2023-07-03T18:36:17.594672Z"
    },
    "id": "icQ50B9-2qMn",
    "papermill": {
     "duration": 0.023044,
     "end_time": "2023-07-03T18:36:17.598142",
     "exception": false,
     "start_time": "2023-07-03T18:36:17.575098",
     "status": "completed"
    },
    "tags": []
   },
   "outputs": [],
   "source": [
    "class dataset(Dataset):\n",
    "     def __init__(self,x1,y1):\n",
    "            self.x=x1\n",
    "            self.y=y1\n",
    "     def __len__(self):\n",
    "        return len(self.x)\n",
    "     def __getitem__(self,index):\n",
    "            return     self.x[index],self.y[index]"
   ]
  },
  {
   "cell_type": "code",
   "execution_count": 26,
   "id": "dcc4ee0a",
   "metadata": {
    "execution": {
     "iopub.execute_input": "2023-07-03T18:36:17.628085Z",
     "iopub.status.busy": "2023-07-03T18:36:17.627815Z",
     "iopub.status.idle": "2023-07-03T18:36:17.641614Z",
     "shell.execute_reply": "2023-07-03T18:36:17.640677Z"
    },
    "id": "3irFelvP2qMo",
    "papermill": {
     "duration": 0.030997,
     "end_time": "2023-07-03T18:36:17.643452",
     "exception": false,
     "start_time": "2023-07-03T18:36:17.612455",
     "status": "completed"
    },
    "tags": []
   },
   "outputs": [],
   "source": [
    "x_train=x[:200000]\n",
    "y_train=y[:200000]\n",
    "x_valid=x[230000:240000]\n",
    "y_valid=y[230000:240000]\n",
    "train=dataset(x_train,y_train)\n",
    "valid=dataset(x_valid,y_valid)\n",
    "train_set=DataLoader(train,batch_size=32,shuffle=True)\n",
    "valid_set=DataLoader(valid,batch_size=32,shuffle=True)"
   ]
  },
  {
   "cell_type": "markdown",
   "id": "5e746e45",
   "metadata": {
    "id": "f35JmXkT2qMo",
    "papermill": {
     "duration": 0.014263,
     "end_time": "2023-07-03T18:36:17.671986",
     "exception": false,
     "start_time": "2023-07-03T18:36:17.657723",
     "status": "completed"
    },
    "tags": []
   },
   "source": []
  },
  {
   "cell_type": "code",
   "execution_count": 27,
   "id": "a68a30a1",
   "metadata": {
    "execution": {
     "iopub.execute_input": "2023-07-03T18:36:17.701414Z",
     "iopub.status.busy": "2023-07-03T18:36:17.701114Z",
     "iopub.status.idle": "2023-07-03T18:36:17.708075Z",
     "shell.execute_reply": "2023-07-03T18:36:17.707088Z"
    },
    "papermill": {
     "duration": 0.024071,
     "end_time": "2023-07-03T18:36:17.710235",
     "exception": false,
     "start_time": "2023-07-03T18:36:17.686164",
     "status": "completed"
    },
    "tags": []
   },
   "outputs": [],
   "source": [
    "x_train=x5[:200000]\n",
    "y_train=y5[:200000]\n",
    "x_valid=x5[230000:240000]\n",
    "y_valid=y5[230000:240000]\n",
    "train=dataset(x_train,y_train)\n",
    "valid=dataset(x_valid,y_valid)\n",
    "train_set5=DataLoader(train,batch_size=32,shuffle=True)\n",
    "valid_set5=DataLoader(valid,batch_size=32,shuffle=True)"
   ]
  },
  {
   "cell_type": "code",
   "execution_count": 28,
   "id": "27f07db8",
   "metadata": {
    "execution": {
     "iopub.execute_input": "2023-07-03T18:36:17.739814Z",
     "iopub.status.busy": "2023-07-03T18:36:17.739540Z",
     "iopub.status.idle": "2023-07-03T18:36:17.746160Z",
     "shell.execute_reply": "2023-07-03T18:36:17.745339Z"
    },
    "papermill": {
     "duration": 0.023749,
     "end_time": "2023-07-03T18:36:17.748218",
     "exception": false,
     "start_time": "2023-07-03T18:36:17.724469",
     "status": "completed"
    },
    "tags": []
   },
   "outputs": [],
   "source": [
    "x_train=x6[:200000]\n",
    "y_train=y6[:200000]\n",
    "x_valid=x6[230000:240000]\n",
    "y_valid=y6[230000:240000]\n",
    "train=dataset(x_train,y_train)\n",
    "valid=dataset(x_valid,y_valid)\n",
    "train_set6=DataLoader(train,batch_size=32,shuffle=True)\n",
    "valid_set6=DataLoader(valid,batch_size=32,shuffle=True)"
   ]
  },
  {
   "cell_type": "code",
   "execution_count": 29,
   "id": "7bfce09f",
   "metadata": {
    "execution": {
     "iopub.execute_input": "2023-07-03T18:36:17.777417Z",
     "iopub.status.busy": "2023-07-03T18:36:17.777140Z",
     "iopub.status.idle": "2023-07-03T18:36:17.782657Z",
     "shell.execute_reply": "2023-07-03T18:36:17.781670Z"
    },
    "papermill": {
     "duration": 0.022691,
     "end_time": "2023-07-03T18:36:17.784928",
     "exception": false,
     "start_time": "2023-07-03T18:36:17.762237",
     "status": "completed"
    },
    "tags": []
   },
   "outputs": [],
   "source": [
    "x_train=x7[:200000]\n",
    "y_train=y7[:200000]\n",
    "x_valid=x7[230000:240000]\n",
    "y_valid=y7[230000:240000]\n",
    "train=dataset(x_train,y_train)\n",
    "valid=dataset(x_valid,y_valid)\n",
    "train_set7=DataLoader(train,batch_size=32,shuffle=True)\n",
    "valid_set7=DataLoader(valid,batch_size=32,shuffle=True)"
   ]
  },
  {
   "cell_type": "code",
   "execution_count": 30,
   "id": "3dd8f149",
   "metadata": {
    "execution": {
     "iopub.execute_input": "2023-07-03T18:36:17.814162Z",
     "iopub.status.busy": "2023-07-03T18:36:17.813894Z",
     "iopub.status.idle": "2023-07-03T18:36:17.820491Z",
     "shell.execute_reply": "2023-07-03T18:36:17.819645Z"
    },
    "id": "hS2nsZ8m2qMs",
    "papermill": {
     "duration": 0.02352,
     "end_time": "2023-07-03T18:36:17.822473",
     "exception": false,
     "start_time": "2023-07-03T18:36:17.798953",
     "status": "completed"
    },
    "tags": []
   },
   "outputs": [],
   "source": [
    "class autocomplete(nn.Module):\n",
    "     def __init__(self):\n",
    "            super(autocomplete,self).__init__()\n",
    "            self.embedding=nn.Embedding(len(vocab),100)\n",
    "            self.lstm1=nn.LSTM(100,1000 ,2,batch_first=True)\n",
    "\n",
    "            self.linear=nn.Linear(1000,len(vocab)+3)\n",
    "\n",
    "     def forward(self,x1):\n",
    "           x1=self.embedding(x1).cuda()\n",
    "           x1,_=self.lstm1(x1)\n",
    "           x1=      x1[:, -1, :]\n",
    "           x1=self.linear(x1).cuda()\n",
    "           return x1\n"
   ]
  },
  {
   "cell_type": "code",
   "execution_count": 31,
   "id": "8c68481e",
   "metadata": {
    "execution": {
     "iopub.execute_input": "2023-07-03T18:36:17.852122Z",
     "iopub.status.busy": "2023-07-03T18:36:17.851400Z",
     "iopub.status.idle": "2023-07-03T18:36:17.858073Z",
     "shell.execute_reply": "2023-07-03T18:36:17.857244Z"
    },
    "papermill": {
     "duration": 0.023457,
     "end_time": "2023-07-03T18:36:17.859974",
     "exception": false,
     "start_time": "2023-07-03T18:36:17.836517",
     "status": "completed"
    },
    "tags": []
   },
   "outputs": [],
   "source": [
    "class autocomplete_gru(nn.Module):\n",
    "     def __init__(self):\n",
    "            super(autocomplete_gru,self).__init__()\n",
    "            self.embedding=nn.Embedding(len(vocab),100)\n",
    "            self.lstm1=nn.GRU(100,1000 ,2,batch_first=True)\n",
    "            self.linear=nn.Linear(1000,len(vocab)+3)\n",
    "\n",
    "     def forward(self,x1):\n",
    "           x1=self.embedding(x1).cuda()\n",
    "           x1,_=self.lstm1(x1)\n",
    "           x1=      x1[:, -1, :]\n",
    "           x1=self.linear(x1).cuda()\n",
    "           return x1\n"
   ]
  },
  {
   "cell_type": "code",
   "execution_count": 32,
   "id": "8c622f2d",
   "metadata": {
    "execution": {
     "iopub.execute_input": "2023-07-03T18:36:17.891155Z",
     "iopub.status.busy": "2023-07-03T18:36:17.890415Z",
     "iopub.status.idle": "2023-07-03T18:36:17.896092Z",
     "shell.execute_reply": "2023-07-03T18:36:17.895311Z"
    },
    "papermill": {
     "duration": 0.024026,
     "end_time": "2023-07-03T18:36:17.898027",
     "exception": false,
     "start_time": "2023-07-03T18:36:17.874001",
     "status": "completed"
    },
    "tags": []
   },
   "outputs": [],
   "source": [
    "import torch\n",
    "\n",
    "def calculate_accuracy(predicted_labels, true_labels):\n",
    "\n",
    "    predicted_labels = torch.argmax(predicted_labels, dim=1)\n",
    "    # Compare predicted labels with true labels\n",
    "    correct = torch.eq(predicted_labels, true_labels).float()\n",
    "    # Calculate accuracy\n",
    "    accuracy = torch.mean(correct)\n",
    "    \n",
    "    return accuracy.item()*100\n"
   ]
  },
  {
   "cell_type": "markdown",
   "id": "0c3422ae",
   "metadata": {
    "papermill": {
     "duration": 0.014162,
     "end_time": "2023-07-03T18:36:17.926365",
     "exception": false,
     "start_time": "2023-07-03T18:36:17.912203",
     "status": "completed"
    },
    "tags": []
   },
   "source": []
  },
  {
   "cell_type": "code",
   "execution_count": 33,
   "id": "39b5679f",
   "metadata": {
    "execution": {
     "iopub.execute_input": "2023-07-03T18:36:17.956519Z",
     "iopub.status.busy": "2023-07-03T18:36:17.956152Z",
     "iopub.status.idle": "2023-07-03T19:01:04.725021Z",
     "shell.execute_reply": "2023-07-03T19:01:04.723248Z"
    },
    "papermill": {
     "duration": 1486.786564,
     "end_time": "2023-07-03T19:01:04.727316",
     "exception": false,
     "start_time": "2023-07-03T18:36:17.940752",
     "status": "completed"
    },
    "tags": []
   },
   "outputs": [
    {
     "name": "stdout",
     "output_type": "stream",
     "text": [
      " iter 6250  train loss 6.183099269866943 , accuracy : 12.5\n",
      "train loss: 6.30176495765686 accuracy : 12.5  , valid : 5.853997644905846 accuracy : 17.711661341853034\n",
      " iter 6250  train loss 4.1743879318237305 , accuracy : 37.5\n",
      "train loss: 4.530082228660583 accuracy : 25.9935  , valid : 5.6320792310915815 accuracy : 26.277955271565496\n",
      " iter 6250  train loss 3.3171579837799072 , accuracy : 46.875\n",
      "train loss: 3.0583044739723206 accuracy : 42.3515  , valid : 5.793589598835466 accuracy : 29.76238019169329\n",
      " iter 6250  train loss 2.662412643432617 , accuracy : 56.25\n",
      "train loss: 2.184168117055893 accuracy : 55.506  , valid : 6.09509548287803 accuracy : 31.59944089456869\n",
      " iter 6250  train loss 2.108448028564453 , accuracy : 46.875\n",
      "train loss: 1.698338960633278 accuracy : 64.103  , valid : 6.319594142536005 accuracy : 32.20846645367412\n",
      " iter 6250  train loss 2.0518929958343506 , accuracy : 50.0\n",
      "train loss: 1.4220573895549775 accuracy : 69.614  , valid : 6.639188588236848 accuracy : 32.51797124600639\n",
      " iter 6250  train loss 1.3005461692810059 , accuracy : 65.625\n",
      "train loss: 1.2640993718600273 accuracy : 72.7355  , valid : 6.813259267959351 accuracy : 32.68769968051118\n",
      " iter 6250  train loss 1.1115468740463257 , accuracy : 81.25\n",
      "train loss: 1.1658843329405784 accuracy : 74.965  , valid : 7.011049179223399 accuracy : 32.54792332268371\n",
      " iter 6250  train loss 0.5856505632400513 , accuracy : 84.375\n",
      "train loss: 1.1069817432188989 accuracy : 76.1085  , valid : 7.157209193744598 accuracy : 32.697683706070286\n",
      " iter 6250  train loss 1.8532698154449463 , accuracy : 59.375\n",
      "train loss: 1.058474781806469 accuracy : 77.057  , valid : 7.326414970544199 accuracy : 33.22683706070288\n",
      " iter 6250  train loss 1.0327870845794678 , accuracy : 78.125\n",
      "train loss: 1.0304289338839054 accuracy : 77.649  , valid : 7.382164168281677 accuracy : 32.81749201277955\n",
      " iter 6250  train loss 1.5668566226959229 , accuracy : 65.625\n",
      "train loss: 1.0037892310917378 accuracy : 78.1335  , valid : 7.518910168077999 accuracy : 33.12699680511182\n",
      " iter 6250  train loss 1.3799248933792114 , accuracy : 75.0\n",
      "train loss: 0.9879494139254094 accuracy : 78.388  , valid : 7.651939859786354 accuracy : 33.097044728434504\n",
      " iter 6250  train loss 0.9623568654060364 , accuracy : 75.0\n",
      "train loss: 0.9644588479924202 accuracy : 78.803  , valid : 7.776181400774386 accuracy : 32.84744408945687\n",
      " iter 6250  train loss 1.8510079383850098 , accuracy : 56.25\n",
      "train loss: 0.9515185327243805 accuracy : 78.968  , valid : 7.800682022167852 accuracy : 33.05710862619808\n",
      " iter 6250  train loss 0.6997531056404114 , accuracy : 87.5\n",
      "train loss: 0.9501355780255795 accuracy : 78.9015  , valid : 7.914637166471146 accuracy : 33.0870607028754\n",
      " iter 6250  train loss 1.3528449535369873 , accuracy : 68.75\n",
      "train loss: 0.93398852435112 accuracy : 79.269  , valid : 8.012696281408731 accuracy : 33.01717252396166\n",
      " iter 6250  train loss 1.0312209129333496 , accuracy : 71.875\n",
      "train loss: 0.9266226260232926 accuracy : 79.367  , valid : 8.169560467473234 accuracy : 32.43809904153355\n",
      " iter 6250  train loss 0.9609482884407043 , accuracy : 78.125\n",
      "train loss: 0.9245378458178043 accuracy : 79.2895  , valid : 8.115690916871872 accuracy : 32.43809904153355\n",
      " iter 6250  train loss 0.5965069532394409 , accuracy : 84.375\n",
      "train loss: 0.910511687182188 accuracy : 79.5195  , valid : 8.213904126383627 accuracy : 32.68769968051118\n"
     ]
    }
   ],
   "source": [
    "model_gru=autocomplete_gru().cuda()\n",
    "loss=nn.CrossEntropyLoss()\n",
    "optim=torch.optim.Adam(model_gru.parameters())\n",
    "schedular=torch.optim.lr_scheduler.ReduceLROnPlateau(optim,verbose=True,patience=5)\n",
    "l_train=[]\n",
    "v_train=[]\n",
    "cur=1212\n",
    "trie=0\n",
    "for i in range(20):\n",
    "    model_gru.train()\n",
    "    t_l=0\n",
    "    o=0\n",
    "    a_t=0\n",
    "    for (a,b) in train_set:\n",
    "        r=model_gru(a.cuda())\n",
    "        l=loss(r,b.cuda())\n",
    "        optim.zero_grad()\n",
    "        l.backward()\n",
    "        optim.step()\n",
    "        t_l+=l.item()\n",
    "        o+=1\n",
    "        k=calculate_accuracy(r,b)\n",
    "        a_t+=k\n",
    "        \n",
    "        print(f\"\\r iter {o}  train loss {l.item()} , accuracy : { k}\",end='')\n",
    "    \n",
    "    \n",
    "    v_l=0\n",
    "    model_gru.eval()\n",
    "    print()\n",
    "    a_v=0\n",
    "    with torch.no_grad():\n",
    "\n",
    "        for (a,b) in valid_set:\n",
    "            r=model_gru(a.cuda())\n",
    "            l=loss(r,b.cuda())\n",
    "            v_l+=l.item()\n",
    "            k=calculate_accuracy(r,b)\n",
    "            a_v+=k\n",
    "    if (cur<=t_l)    :\n",
    "        trie+=1\n",
    "    else:\n",
    "        trie=0   \n",
    "    cur=t_l\n",
    "    if (trie==4):break\n",
    "    schedular.step(t_l)\n",
    "    l_train.append(t_l)\n",
    "    v_train.append(v_l)\n",
    "    print(f\"train loss: {t_l/len(train_set) } accuracy : {a_t/len(train_set)  }  , valid : {v_l/ len(valid_set)} accuracy : {a_v / len(valid_set) }\")"
   ]
  },
  {
   "cell_type": "code",
   "execution_count": 34,
   "id": "1c55e1df",
   "metadata": {
    "execution": {
     "iopub.execute_input": "2023-07-03T19:01:06.159158Z",
     "iopub.status.busy": "2023-07-03T19:01:06.158817Z",
     "iopub.status.idle": "2023-07-03T19:01:06.439956Z",
     "shell.execute_reply": "2023-07-03T19:01:06.439071Z"
    },
    "papermill": {
     "duration": 0.970068,
     "end_time": "2023-07-03T19:01:06.441982",
     "exception": false,
     "start_time": "2023-07-03T19:01:05.471914",
     "status": "completed"
    },
    "tags": []
   },
   "outputs": [
    {
     "data": {
      "text/plain": [
       "[<matplotlib.lines.Line2D at 0x7a8aa2d4a500>]"
      ]
     },
     "execution_count": 34,
     "metadata": {},
     "output_type": "execute_result"
    },
    {
     "data": {
      "image/png": "[encoded data removed]",
      "text/plain": [
       "<Figure size 640x480 with 1 Axes>"
      ]
     },
     "metadata": {},
     "output_type": "display_data"
    }
   ],
   "source": [
    "from matplotlib import pyplot as plt\n",
    "plt.plot (list(v_train),c='r')\n",
    "plt.plot (list(l_train),c='b')\n"
   ]
  },
  {
   "cell_type": "code",
   "execution_count": 35,
   "id": "0cd073cc",
   "metadata": {
    "execution": {
     "iopub.execute_input": "2023-07-03T19:01:07.871646Z",
     "iopub.status.busy": "2023-07-03T19:01:07.871292Z",
     "iopub.status.idle": "2023-07-03T19:27:38.567050Z",
     "shell.execute_reply": "2023-07-03T19:27:38.565746Z"
    },
    "id": "MfAm9s8P2qMu",
    "papermill": {
     "duration": 1591.394631,
     "end_time": "2023-07-03T19:27:38.569142",
     "exception": false,
     "start_time": "2023-07-03T19:01:07.174511",
     "status": "completed"
    },
    "tags": []
   },
   "outputs": [
    {
     "name": "stdout",
     "output_type": "stream",
     "text": [
      " iter 6250  train loss 6.23844575881958 , accuracy : 15.625\n",
      "train loss: 6.385642018051147 accuracy : 11.682  , valid : 5.924277975917243 accuracy : 15.545127795527156\n",
      " iter 6250  train loss 4.430939197540283 , accuracy : 31.25\n",
      "train loss: 4.93487677822113 accuracy : 22.527  , valid : 5.592943723971089 accuracy : 25.43929712460064\n",
      " iter 6250  train loss 3.423563003540039 , accuracy : 43.75\n",
      "train loss: 3.2253367269325257 accuracy : 42.45  , valid : 5.747969181012041 accuracy : 32.64776357827476\n",
      " iter 6250  train loss 2.2403502464294434 , accuracy : 65.625\n",
      "train loss: 1.9649115655231475 accuracy : 61.5745  , valid : 6.125961108710438 accuracy : 33.855830670926515\n",
      " iter 6250  train loss 1.3068543672561646 , accuracy : 71.875\n",
      "train loss: 1.280870475308895 accuracy : 74.6935  , valid : 6.512699399893276 accuracy : 34.185303514377\n",
      " iter 6250  train loss 0.9276700019836426 , accuracy : 75.0\n",
      "train loss: 0.9790811179244518 accuracy : 81.1445  , valid : 6.742636189293176 accuracy : 33.95567092651757\n",
      " iter 6250  train loss 0.4645856022834778 , accuracy : 87.5\n",
      "train loss: 0.8503571249198913 accuracy : 83.6425  , valid : 6.906328673560779 accuracy : 34.02555910543131\n",
      " iter 6250  train loss 1.4623545408248901 , accuracy : 65.625\n",
      "train loss: 0.7696435059130192 accuracy : 85.007  , valid : 7.121548672453664 accuracy : 33.945686900958464\n",
      " iter 6250  train loss 0.8228509426116943 , accuracy : 84.375\n",
      "train loss: 0.7220093691241741 accuracy : 85.49  , valid : 7.171570515099425 accuracy : 34.325079872204476\n",
      " iter 6250  train loss 0.7516538500785828 , accuracy : 84.375\n",
      "train loss: 0.6851894027084112 accuracy : 85.8235  , valid : 7.295594553597057 accuracy : 34.43490415335463\n",
      " iter 6250  train loss 0.5990204811096191 , accuracy : 84.375\n",
      "train loss: 0.6518744520017504 accuracy : 86.1855  , valid : 7.373555015832091 accuracy : 34.51477635782748\n",
      " iter 6250  train loss 0.6374699473381042 , accuracy : 87.5\n",
      "train loss: 0.630552921410203 accuracy : 86.316  , valid : 7.503065003373752 accuracy : 34.185303514377\n",
      " iter 6250  train loss 0.9991310834884644 , accuracy : 75.0\n",
      "train loss: 0.614317263301313 accuracy : 86.224  , valid : 7.583100753851211 accuracy : 34.14536741214057\n",
      " iter 6250  train loss 0.5127336382865906 , accuracy : 90.625\n",
      "train loss: 0.593476678699553 accuracy : 86.475  , valid : 7.6625442245897775 accuracy : 34.63458466453674\n",
      " iter 6250  train loss 0.7501275539398193 , accuracy : 78.125\n",
      "train loss: 0.5796591154488921 accuracy : 86.4575  , valid : 7.664262485199462 accuracy : 34.50479233226837\n",
      " iter 6250  train loss 0.7029646635055542 , accuracy : 84.375\n",
      "train loss: 0.5638135838612914 accuracy : 86.609  , valid : 7.749322618539341 accuracy : 34.365015974440894\n",
      " iter 6250  train loss 0.5051866769790649 , accuracy : 87.5\n",
      "train loss: 0.5551674626159668 accuracy : 86.5625  , valid : 7.849383028932273 accuracy : 34.62460063897763\n",
      " iter 6250  train loss 0.4985829293727875 , accuracy : 90.625\n",
      "train loss: 0.5469489512717723 accuracy : 86.4455  , valid : 7.922241419648972 accuracy : 34.185303514377\n",
      " iter 6250  train loss 0.7382371425628662 , accuracy : 81.25\n",
      "train loss: 0.5334900141513348 accuracy : 86.686  , valid : 7.971736594130056 accuracy : 34.28514376996805\n",
      " iter 6250  train loss 0.22116626799106598 , accuracy : 90.625\n",
      "train loss: 0.5277251341933012 accuracy : 86.6405  , valid : 8.044778804047802 accuracy : 33.905750798722046\n"
     ]
    }
   ],
   "source": [
    "model=autocomplete().cuda()\n",
    "trie=0\n",
    "\n",
    "loss=nn.CrossEntropyLoss()\n",
    "optim=torch.optim.Adam(model.parameters())\n",
    "schedular=torch.optim.lr_scheduler.ReduceLROnPlateau(optim,verbose=True,patience=5)\n",
    "l_train=[]\n",
    "v_train=[]\n",
    "cur=122121\n",
    "for i in range(20):\n",
    "    model.train()\n",
    "    t_l=0\n",
    "    o=0\n",
    "    a_t=0\n",
    "    for (a,b) in train_set:\n",
    "        r=model(a.cuda())\n",
    "        l=loss(r,b.cuda())\n",
    "        optim.zero_grad()\n",
    "        l.backward()\n",
    "        optim.step()\n",
    "        t_l+=l.item()\n",
    "        o+=1\n",
    "        k=calculate_accuracy(r,b)\n",
    "        a_t+=k\n",
    "        \n",
    "        print(f\"\\r iter {o}  train loss {l.item()} , accuracy : { k}\",end='')\n",
    "    \n",
    "    \n",
    "    v_l=0\n",
    "    model.eval()\n",
    "    print()\n",
    "    a_v=0\n",
    "    with torch.no_grad():\n",
    "\n",
    "        for (a,b) in valid_set:\n",
    "            r=model(a.cuda())\n",
    "            l=loss(r,b.cuda())\n",
    "            v_l+=l.item()\n",
    "            k=calculate_accuracy(r,b)\n",
    "            a_v+=k\n",
    "    if (cur<=t_l)    :\n",
    "        trie+=1\n",
    "    else:\n",
    "        trie=0   \n",
    "    cur=t_l\n",
    "    if (trie==4):break       \n",
    "    schedular.step(t_l)\n",
    "    l_train.append(t_l)\n",
    "    v_train.append(v_l)\n",
    "    print(f\"train loss: {t_l/len(train_set) } accuracy : {a_t/len(train_set)  }  , valid : {v_l/ len(valid_set)} accuracy : {a_v / len(valid_set) }\")"
   ]
  },
  {
   "cell_type": "code",
   "execution_count": 36,
   "id": "9cd68a2a",
   "metadata": {
    "execution": {
     "iopub.execute_input": "2023-07-03T19:27:41.493052Z",
     "iopub.status.busy": "2023-07-03T19:27:41.492661Z",
     "iopub.status.idle": "2023-07-03T19:27:41.810609Z",
     "shell.execute_reply": "2023-07-03T19:27:41.809578Z"
    },
    "papermill": {
     "duration": 1.839696,
     "end_time": "2023-07-03T19:27:41.813243",
     "exception": false,
     "start_time": "2023-07-03T19:27:39.973547",
     "status": "completed"
    },
    "tags": []
   },
   "outputs": [
    {
     "data": {
      "text/plain": [
       "[<matplotlib.lines.Line2D at 0x7a8a95058310>]"
      ]
     },
     "execution_count": 36,
     "metadata": {},
     "output_type": "execute_result"
    },
    {
     "data": {
      "image/png": "[encoded data removed]",
      "text/plain": [
       "<Figure size 640x480 with 1 Axes>"
      ]
     },
     "metadata": {},
     "output_type": "display_data"
    }
   ],
   "source": [
    "from matplotlib import pyplot as plt\n",
    "plt.plot (list(v_train),c='r')\n",
    "plt.plot (list(l_train),c='b')\n"
   ]
  },
  {
   "cell_type": "code",
   "execution_count": 37,
   "id": "9e55b87a",
   "metadata": {
    "execution": {
     "iopub.execute_input": "2023-07-03T19:27:44.720917Z",
     "iopub.status.busy": "2023-07-03T19:27:44.720563Z",
     "iopub.status.idle": "2023-07-03T19:27:45.028958Z",
     "shell.execute_reply": "2023-07-03T19:27:45.028016Z"
    },
    "papermill": {
     "duration": 1.718103,
     "end_time": "2023-07-03T19:27:45.031451",
     "exception": false,
     "start_time": "2023-07-03T19:27:43.313348",
     "status": "completed"
    },
    "tags": []
   },
   "outputs": [],
   "source": [
    "model5=autocomplete().cuda()\n",
    "loss5=nn.CrossEntropyLoss()\n",
    "optim5=torch.optim.Adam(model5.parameters())\n",
    "schedular5=torch.optim.lr_scheduler.ReduceLROnPlateau(optim5,verbose=True,patience=5)"
   ]
  },
  {
   "cell_type": "markdown",
   "id": "8a192b0e",
   "metadata": {
    "papermill": {
     "duration": 1.453785,
     "end_time": "2023-07-03T19:27:47.979483",
     "exception": false,
     "start_time": "2023-07-03T19:27:46.525698",
     "status": "completed"
    },
    "tags": []
   },
   "source": []
  },
  {
   "cell_type": "code",
   "execution_count": 38,
   "id": "87d0efe1",
   "metadata": {
    "execution": {
     "iopub.execute_input": "2023-07-03T19:27:50.843325Z",
     "iopub.status.busy": "2023-07-03T19:27:50.842953Z",
     "iopub.status.idle": "2023-07-03T19:55:50.000811Z",
     "shell.execute_reply": "2023-07-03T19:55:49.999696Z"
    },
    "papermill": {
     "duration": 1680.566294,
     "end_time": "2023-07-03T19:55:50.003424",
     "exception": false,
     "start_time": "2023-07-03T19:27:49.437130",
     "status": "completed"
    },
    "tags": []
   },
   "outputs": [
    {
     "name": "stdout",
     "output_type": "stream",
     "text": [
      " iter 6250  train loss 5.970873832702637 , accuracy : 12.5\n",
      "train loss: 6.400567518005371 accuracy : 11.452  , valid : 5.936770276139719 accuracy : 15.175718849840255\n",
      " iter 6250  train loss 4.498296737670898 , accuracy : 25.0\n",
      "train loss: 4.944675718612671 accuracy : 22.4  , valid : 5.509178874591669 accuracy : 27.216453674121407\n",
      " iter 6250  train loss 2.808056354522705 , accuracy : 50.0\n",
      "train loss: 3.0873446433830263 accuracy : 44.5485  , valid : 5.634045533859692 accuracy : 33.59624600638978\n",
      " iter 6250  train loss 2.3219640254974365 , accuracy : 43.75\n",
      "train loss: 1.6540946363019944 accuracy : 66.654  , valid : 6.053716479779813 accuracy : 35.90255591054313\n",
      " iter 6250  train loss 1.534517526626587 , accuracy : 68.75\n",
      "train loss: 0.8927161578536034 accuracy : 81.406  , valid : 6.505809077058737 accuracy : 35.93250798722045\n",
      " iter 6250  train loss 0.8843926191329956 , accuracy : 78.125\n",
      "train loss: 0.5919733448469638 accuracy : 87.9235  , valid : 6.850890034684739 accuracy : 36.20207667731629\n",
      " iter 6250  train loss 0.6276234984397888 , accuracy : 90.625\n",
      "train loss: 0.49828754648029805 accuracy : 89.886  , valid : 7.057773417177292 accuracy : 35.79273162939297\n",
      " iter 6250  train loss 0.42503806948661804 , accuracy : 87.5\n",
      "train loss: 0.44509731312483547 accuracy : 90.806  , valid : 7.218565623981123 accuracy : 36.24201277955272\n",
      " iter 6250  train loss 0.39264148473739624 , accuracy : 90.625\n",
      "train loss: 0.4193573079112172 accuracy : 91.2795  , valid : 7.37261340412469 accuracy : 36.08226837060703\n",
      " iter 6250  train loss 0.42654502391815186 , accuracy : 87.5\n",
      "train loss: 0.3967975889901817 accuracy : 91.694  , valid : 7.469850884458889 accuracy : 35.712859424920126\n",
      " iter 6250  train loss 0.25998762249946594 , accuracy : 93.75\n",
      "train loss: 0.3868560613931715 accuracy : 91.702  , valid : 7.596321546231596 accuracy : 35.77276357827476\n",
      " iter 6250  train loss 0.6681624054908752 , accuracy : 81.25\n",
      "train loss: 0.37592601336367426 accuracy : 91.9395  , valid : 7.675545508869159 accuracy : 35.45327476038339\n",
      " iter 6250  train loss 0.25621044635772705 , accuracy : 93.75\n",
      "train loss: 0.36696017704218625 accuracy : 91.9185  , valid : 7.74770311349497 accuracy : 35.603035143769965\n",
      " iter 6250  train loss 0.7500845789909363 , accuracy : 87.5\n",
      "train loss: 0.36094847002968194 accuracy : 92.049  , valid : 7.836938809282102 accuracy : 35.742811501597444\n",
      " iter 6250  train loss 0.6760320067405701 , accuracy : 87.5\n",
      "train loss: 0.3561585289488733 accuracy : 92.037  , valid : 7.894903601929784 accuracy : 35.573083067092654\n",
      " iter 6250  train loss 1.033692479133606 , accuracy : 84.375\n",
      "train loss: 0.3490549779675901 accuracy : 92.0975  , valid : 7.949253378584743 accuracy : 35.97244408945687\n",
      " iter 6250  train loss 0.4265415668487549 , accuracy : 93.75\n",
      "train loss: 0.3466456707832217 accuracy : 92.0805  , valid : 8.010488380639316 accuracy : 35.87260383386582\n",
      " iter 6250  train loss 0.2855769097805023 , accuracy : 96.875\n",
      "train loss: 0.3406764389062673 accuracy : 92.1455  , valid : 8.063372132877191 accuracy : 35.58306709265176\n",
      " iter 6250  train loss 0.4402618706226349 , accuracy : 84.375\n",
      "train loss: 0.3352720229241997 accuracy : 92.2345  , valid : 8.246523224126797 accuracy : 35.483226837060705\n",
      " iter 6250  train loss 0.39908018708229065 , accuracy : 90.625\n",
      "train loss: 0.33294260908778756 accuracy : 92.2245  , valid : 8.25167941894775 accuracy : 35.962460063897765\n"
     ]
    }
   ],
   "source": [
    "cur=213123\n",
    "trie=0\n",
    "\n",
    "l_train=[]\n",
    "v_train=[]\n",
    "for i in range(20):\n",
    "    model5.train()\n",
    "    t_l=0\n",
    "    o=0\n",
    "    a_t=0\n",
    "    for (a,b) in train_set5:\n",
    "        r=model5(a.cuda())\n",
    "        l=loss5(r,b.cuda())\n",
    "        optim5.zero_grad()\n",
    "        l.backward()\n",
    "        optim5.step()\n",
    "        t_l+=l.item()\n",
    "        o+=1\n",
    "        k=calculate_accuracy(r,b)\n",
    "        a_t+=k\n",
    "        \n",
    "        print(f\"\\r iter {o}  train loss {l.item()} , accuracy : { k}\",end='')\n",
    "    \n",
    "    \n",
    "    v_l=0\n",
    "    model5.eval()\n",
    "    print()\n",
    "    a_v=0\n",
    "    with torch.no_grad():\n",
    "\n",
    "        for (a,b) in valid_set5:\n",
    "            r=model5(a.cuda())\n",
    "            l=loss5(r,b.cuda())\n",
    "            v_l+=l.item()\n",
    "            k=calculate_accuracy(r,b)\n",
    "            a_v+=k\n",
    "    schedular5.step(t_l)\n",
    "    l_train.append(t_l)\n",
    "    v_train.append(v_l)\n",
    "    if (cur<=t_l)    :\n",
    "        trie+=1\n",
    "    else:\n",
    "        trie=0   \n",
    "    cur=t_l\n",
    "    if (trie==4):break\n",
    "    print(f\"train loss: {t_l/len(train_set5) } accuracy : {a_t/len(train_set5)  }  , valid : {v_l/ len(valid_set5)} accuracy : {a_v / len(valid_set5) }\")"
   ]
  },
  {
   "cell_type": "code",
   "execution_count": 39,
   "id": "5ce31bb7",
   "metadata": {
    "execution": {
     "iopub.execute_input": "2023-07-03T19:55:54.451841Z",
     "iopub.status.busy": "2023-07-03T19:55:54.451479Z",
     "iopub.status.idle": "2023-07-03T19:55:54.717889Z",
     "shell.execute_reply": "2023-07-03T19:55:54.717039Z"
    },
    "papermill": {
     "duration": 2.495321,
     "end_time": "2023-07-03T19:55:54.720067",
     "exception": false,
     "start_time": "2023-07-03T19:55:52.224746",
     "status": "completed"
    },
    "tags": []
   },
   "outputs": [
    {
     "data": {
      "text/plain": [
       "[<matplotlib.lines.Line2D at 0x7a8a9505a4a0>]"
      ]
     },
     "execution_count": 39,
     "metadata": {},
     "output_type": "execute_result"
    },
    {
     "data": {
      "image/png": "[encoded data removed]",
      "text/plain": [
       "<Figure size 640x480 with 1 Axes>"
      ]
     },
     "metadata": {},
     "output_type": "display_data"
    }
   ],
   "source": [
    "from matplotlib import pyplot as plt\n",
    "plt.plot (list(v_train),c='r')\n",
    "plt.plot (list(l_train),c='b')\n"
   ]
  },
  {
   "cell_type": "code",
   "execution_count": 40,
   "id": "d0bb977c",
   "metadata": {
    "execution": {
     "iopub.execute_input": "2023-07-03T19:55:59.218703Z",
     "iopub.status.busy": "2023-07-03T19:55:59.218348Z",
     "iopub.status.idle": "2023-07-03T19:55:59.518918Z",
     "shell.execute_reply": "2023-07-03T19:55:59.517979Z"
    },
    "papermill": {
     "duration": 2.546103,
     "end_time": "2023-07-03T19:55:59.521465",
     "exception": false,
     "start_time": "2023-07-03T19:55:56.975362",
     "status": "completed"
    },
    "tags": []
   },
   "outputs": [],
   "source": [
    "model6=autocomplete().cuda()\n",
    "loss=nn.CrossEntropyLoss()\n",
    "trie=0\n",
    "\n",
    "optim=torch.optim.Adam(model6.parameters())\n",
    "schedular=torch.optim.lr_scheduler.ReduceLROnPlateau(optim,verbose=True,patience=5)"
   ]
  },
  {
   "cell_type": "code",
   "execution_count": 41,
   "id": "d176e3fa",
   "metadata": {
    "execution": {
     "iopub.execute_input": "2023-07-03T19:56:03.970246Z",
     "iopub.status.busy": "2023-07-03T19:56:03.969878Z",
     "iopub.status.idle": "2023-07-03T20:25:47.246523Z",
     "shell.execute_reply": "2023-07-03T20:25:47.244460Z"
    },
    "papermill": {
     "duration": 1785.510743,
     "end_time": "2023-07-03T20:25:47.248913",
     "exception": false,
     "start_time": "2023-07-03T19:56:01.738170",
     "status": "completed"
    },
    "tags": []
   },
   "outputs": [
    {
     "name": "stdout",
     "output_type": "stream",
     "text": [
      " iter 6250  train loss 6.21581506729126 , accuracy : 6.25\n",
      "train loss: 6.379111438369751 accuracy : 11.398  , valid : 5.925386506528519 accuracy : 15.095846645367413\n",
      " iter 6250  train loss 4.323724746704102 , accuracy : 25.0\n",
      "train loss: 4.899945353660583 accuracy : 22.8405  , valid : 5.464128981002222 accuracy : 27.675718849840255\n",
      " iter 6250  train loss 3.5951414108276367 , accuracy : 43.75\n",
      "train loss: 3.0153693667030335 accuracy : 45.667  , valid : 5.607708556964375 accuracy : 34.29512779552716\n",
      " iter 6250  train loss 0.9324226975440979 , accuracy : 75.0\n",
      "train loss: 1.6014282879447936 accuracy : 67.436  , valid : 6.054089197335533 accuracy : 36.0323482428115\n",
      " iter 6250  train loss 0.9025862216949463 , accuracy : 75.0\n",
      "train loss: 0.8449906309127808 accuracy : 81.7885  , valid : 6.4919828766831955 accuracy : 36.162140575079874\n",
      " iter 6250  train loss 1.6061115264892578 , accuracy : 71.875\n",
      "train loss: 0.5470996378183365 accuracy : 88.002  , valid : 6.794089171833123 accuracy : 36.08226837060703\n",
      " iter 6250  train loss 0.6110748052597046 , accuracy : 81.25\n",
      "train loss: 0.45209951660573483 accuracy : 89.7935  , valid : 7.069908057538846 accuracy : 35.90255591054313\n",
      " iter 6250  train loss 0.662257194519043 , accuracy : 87.5\n",
      "train loss: 0.41223493996709587 accuracy : 90.5385  , valid : 7.248115752832577 accuracy : 35.802715654952074\n",
      " iter 6250  train loss 0.5797915458679199 , accuracy : 87.5\n",
      "train loss: 0.38858095037922263 accuracy : 90.946  , valid : 7.384816238293633 accuracy : 35.912539936102235\n",
      " iter 6250  train loss 1.2856297492980957 , accuracy : 62.5\n",
      "train loss: 0.3718389005866647 accuracy : 91.119  , valid : 7.534271750587244 accuracy : 35.852635782747605\n",
      " iter 6250  train loss 0.2818538546562195 , accuracy : 90.625\n",
      "train loss: 0.36854062394678594 accuracy : 91.1295  , valid : 7.662812132424059 accuracy : 35.76277955271566\n",
      " iter 6250  train loss 0.4367940425872803 , accuracy : 90.625\n",
      "train loss: 0.3591563516058028 accuracy : 91.2605  , valid : 7.751200522096774 accuracy : 35.63298722044728\n",
      " iter 6250  train loss 0.28058910369873047 , accuracy : 93.75\n",
      "train loss: 0.353121509051621 accuracy : 91.273  , valid : 7.8098335692676875 accuracy : 35.79273162939297\n",
      " iter 6250  train loss 0.1352977156639099 , accuracy : 100.0\n",
      "train loss: 0.34675940516248344 accuracy : 91.32  , valid : 7.861827196785436 accuracy : 35.83266773162939\n",
      " iter 6250  train loss 0.9125370383262634 , accuracy : 81.25\n",
      "train loss: 0.3443271754226089 accuracy : 91.3505  , valid : 8.026990476126869 accuracy : 35.652955271565496\n",
      " iter 6250  train loss 0.3691764175891876 , accuracy : 93.75\n",
      "train loss: 0.3398748129044473 accuracy : 91.393  , valid : 8.134816988588522 accuracy : 35.81269968051118\n",
      " iter 6250  train loss 0.4456690847873688 , accuracy : 87.5\n",
      "train loss: 0.3339166905439645 accuracy : 91.5905  , valid : 8.197315033251485 accuracy : 35.573083067092654\n",
      " iter 6250  train loss 0.5240968465805054 , accuracy : 93.75\n",
      "train loss: 0.3370211716590077 accuracy : 91.448  , valid : 8.186677656996364 accuracy : 35.573083067092654\n",
      " iter 6250  train loss 0.6608443856239319 , accuracy : 84.375\n",
      "train loss: 0.3338938576990366 accuracy : 91.4105  , valid : 8.275325612138255 accuracy : 35.682907348242814\n",
      " iter 6250  train loss 0.7431564927101135 , accuracy : 81.25\n",
      "train loss: 0.3240971509708464 accuracy : 91.7015  , valid : 8.40658042225213 accuracy : 35.90255591054313\n"
     ]
    }
   ],
   "source": [
    "l_train=[]\n",
    "v_train=[]\n",
    "cur=123213\n",
    "for i in range(20):\n",
    "    model6.train()\n",
    "    t_l=0\n",
    "    o=0\n",
    "    a_t=0\n",
    "    for (a,b) in train_set6:\n",
    "        r=model6(a.cuda())\n",
    "        l=loss(r,b.cuda())\n",
    "        optim.zero_grad()\n",
    "        l.backward()\n",
    "        optim.step()\n",
    "        t_l+=l.item()\n",
    "        o+=1\n",
    "        k=calculate_accuracy(r,b)\n",
    "        a_t+=k\n",
    "        \n",
    "        print(f\"\\r iter {o}  train loss {l.item()} , accuracy : { k}\",end='')\n",
    "    \n",
    "    \n",
    "    v_l=0\n",
    "    model6.eval()\n",
    "    print()\n",
    "    a_v=0\n",
    "    with torch.no_grad():\n",
    "\n",
    "        for (a,b) in valid_set6:\n",
    "            r=model6(a.cuda())\n",
    "            l=loss(r,b.cuda())\n",
    "            v_l+=l.item()\n",
    "            k=calculate_accuracy(r,b)\n",
    "            a_v+=k\n",
    "    schedular.step(t_l)\n",
    "    l_train.append(t_l)\n",
    "    v_train.append(v_l)\n",
    "    if (cur<=t_l)    :\n",
    "        trie+=1\n",
    "    else:\n",
    "        trie=0   \n",
    "    cur=t_l\n",
    "    if (trie==4):break\n",
    "    print(f\"train loss: {t_l/len(train_set6) } accuracy : {a_t/len(train_set6)  }  , valid : {v_l/ len(valid_set6)} accuracy : {a_v / len(valid_set6) }\")"
   ]
  },
  {
   "cell_type": "code",
   "execution_count": 42,
   "id": "e7da1f48",
   "metadata": {
    "execution": {
     "iopub.execute_input": "2023-07-03T20:25:53.847248Z",
     "iopub.status.busy": "2023-07-03T20:25:53.846875Z",
     "iopub.status.idle": "2023-07-03T20:25:54.115816Z",
     "shell.execute_reply": "2023-07-03T20:25:54.114981Z"
    },
    "papermill": {
     "duration": 3.29008,
     "end_time": "2023-07-03T20:25:54.117773",
     "exception": false,
     "start_time": "2023-07-03T20:25:50.827693",
     "status": "completed"
    },
    "tags": []
   },
   "outputs": [
    {
     "data": {
      "text/plain": [
       "[<matplotlib.lines.Line2D at 0x7a8aa5be0670>]"
      ]
     },
     "execution_count": 42,
     "metadata": {},
     "output_type": "execute_result"
    },
    {
     "data": {
      "image/png": "[encoded data removed]",
      "text/plain": [
       "<Figure size 640x480 with 1 Axes>"
      ]
     },
     "metadata": {},
     "output_type": "display_data"
    }
   ],
   "source": [
    "from matplotlib import pyplot as plt\n",
    "plt.plot (list(v_train),c='r')\n",
    "plt.plot (list(l_train),c='b')\n"
   ]
  },
  {
   "cell_type": "code",
   "execution_count": 43,
   "id": "8c02be64",
   "metadata": {
    "execution": {
     "iopub.execute_input": "2023-07-03T20:26:00.109149Z",
     "iopub.status.busy": "2023-07-03T20:26:00.108791Z",
     "iopub.status.idle": "2023-07-03T20:42:32.622266Z",
     "shell.execute_reply": "2023-07-03T20:42:32.621212Z"
    },
    "papermill": {
     "duration": 995.543921,
     "end_time": "2023-07-03T20:42:32.624667",
     "exception": false,
     "start_time": "2023-07-03T20:25:57.080746",
     "status": "completed"
    },
    "tags": []
   },
   "outputs": [
    {
     "name": "stdout",
     "output_type": "stream",
     "text": [
      " iter 6250  train loss 9.874445915222168 , accuracy : 0.0\n",
      "train loss: 9.8737848777771 accuracy : 0.003  , valid : 9.874030558065103 accuracy : 0.0\n",
      " iter 6250  train loss 9.87747859954834 , accuracy : 0.0\n",
      "train loss: 9.873784885101319 accuracy : 0.003  , valid : 9.874039723088567 accuracy : 0.0\n",
      " iter 6250  train loss 9.873370170593262 , accuracy : 0.0\n",
      "train loss: 9.873784867706298 accuracy : 0.003  , valid : 9.874034488543916 accuracy : 0.0\n",
      " iter 6250  train loss 9.871286392211914 , accuracy : 0.0\n",
      "train loss: 9.873784890136719 accuracy : 0.003  , valid : 9.874044747398303 accuracy : 0.0\n",
      " iter 6250  train loss 9.872720718383789 , accuracy : 0.0\n",
      "train loss: 9.873784884033203 accuracy : 0.003  , valid : 9.874055000158926 accuracy : 0.0\n",
      " iter 6250  train loss 9.874283790588379 , accuracy : 0.0\n",
      "train loss: 9.873784871826173 accuracy : 0.003  , valid : 9.87402865985712 accuracy : 0.0\n",
      " iter 6250  train loss 9.872559547424316 , accuracy : 0.0\n",
      "Epoch 00007: reducing learning rate of group 0 to 1.0000e-04.\n",
      "train loss: 9.873784895935058 accuracy : 0.003  , valid : 9.87405491789309 accuracy : 0.0\n",
      " iter 6250  train loss 9.87363338470459 , accuracy : 0.0\n",
      "train loss: 9.873784875640869 accuracy : 0.003  , valid : 9.874034168621222 accuracy : 0.0\n",
      " iter 6250  train loss 9.865724563598633 , accuracy : 0.0\n",
      "train loss: 9.873784892578126 accuracy : 0.003  , valid : 9.87403564635938 accuracy : 0.0\n",
      " iter 6250  train loss 9.871511459350586 , accuracy : 0.0\n",
      "train loss: 9.87378490097046 accuracy : 0.003  , valid : 9.8740480075629 accuracy : 0.0\n",
      " iter 6250  train loss 9.865387916564941 , accuracy : 0.0\n",
      "train loss: 9.873784878234863 accuracy : 0.003  , valid : 9.874037078394295 accuracy : 0.0\n",
      " iter 6250  train loss 9.872719764709473 , accuracy : 0.0\n",
      "train loss: 9.873784870910644 accuracy : 0.003  , valid : 9.874035481827708 accuracy : 0.0\n",
      " iter 6250  train loss 9.867406845092773 , accuracy : 0.0\n",
      "Epoch 00013: reducing learning rate of group 0 to 1.0000e-05.\n",
      "train loss: 9.873784884796143 accuracy : 0.003  , valid : 9.874043443332464 accuracy : 0.0\n",
      " iter 6250  train loss 9.877592086791992 , accuracy : 0.0\n",
      "train loss: 9.87378490814209 accuracy : 0.003  , valid : 9.874038854726969 accuracy : 0.0\n",
      " iter 6250  train loss 9.872669219970703 , accuracy : 0.0\n",
      "train loss: 9.87378488647461 accuracy : 0.003  , valid : 9.874029089467594 accuracy : 0.0\n",
      " iter 6250  train loss 9.87392520904541 , accuracy : 0.0\n",
      "train loss: 9.873784882507325 accuracy : 0.003  , valid : 9.874040070433205 accuracy : 0.0\n",
      " iter 6250  train loss 9.870606422424316 , accuracy : 0.0\n",
      "train loss: 9.873784907073974 accuracy : 0.003  , valid : 9.87403678894043 accuracy : 0.0\n",
      " iter 6250  train loss 9.869108200073242 , accuracy : 0.0\n",
      "train loss: 9.873784883728028 accuracy : 0.003  , valid : 9.874031807287052 accuracy : 0.0\n",
      " iter 6250  train loss 9.875441551208496 , accuracy : 0.0\n",
      "Epoch 00019: reducing learning rate of group 0 to 1.0000e-06.\n",
      "train loss: 9.873784897003175 accuracy : 0.003  , valid : 9.874034747528954 accuracy : 0.0\n",
      " iter 6250  train loss 9.869665145874023 , accuracy : 0.0\n",
      "train loss: 9.873784898834229 accuracy : 0.003  , valid : 9.874043102081592 accuracy : 0.0\n"
     ]
    }
   ],
   "source": [
    "model7=autocomplete().cuda()\n",
    "trie=0\n",
    "\n",
    "loss=nn.CrossEntropyLoss()\n",
    "optim=torch.optim.Adam(model.parameters())\n",
    "schedular=torch.optim.lr_scheduler.ReduceLROnPlateau(optim,verbose=True,patience=5)\n",
    "l_train=[]\n",
    "v_train=[]\n",
    "for i in range(20):\n",
    "    model7.train()\n",
    "    t_l=0\n",
    "    o=0\n",
    "    a_t=0\n",
    "    for (a,b) in train_set:\n",
    "        r=model7(a.cuda())\n",
    "        l=loss(r,b.cuda())\n",
    "        optim.zero_grad()\n",
    "        l.backward()\n",
    "        optim.step()\n",
    "        t_l+=l.item()\n",
    "        o+=1\n",
    "        k=calculate_accuracy(r,b)\n",
    "        a_t+=k\n",
    "        \n",
    "        print(f\"\\r iter {o}  train loss {l.item()} , accuracy : { k}\",end='')\n",
    "    \n",
    "    \n",
    "    v_l=0\n",
    "    model7.eval()\n",
    "    print()\n",
    "    a_v=0\n",
    "    with torch.no_grad():\n",
    "\n",
    "        for (a,b) in valid_set7:\n",
    "            r=model7(a.cuda())\n",
    "            l=loss(r,b.cuda())\n",
    "            v_l+=l.item()\n",
    "            k=calculate_accuracy(r,b)\n",
    "            a_v+=k\n",
    "    schedular.step(t_l)\n",
    "    l_train.append(t_l)\n",
    "    v_train.append(v_l)\n",
    "    print(f\"train loss: {t_l/len(train_set7) } accuracy : {a_t/len(train_set7)  }  , valid : {v_l/ len(valid_set7)} accuracy : {a_v / len(valid_set7) }\")"
   ]
  },
  {
   "cell_type": "code",
   "execution_count": 44,
   "id": "f85f9bba",
   "metadata": {
    "execution": {
     "iopub.execute_input": "2023-07-03T20:42:39.860243Z",
     "iopub.status.busy": "2023-07-03T20:42:39.859880Z",
     "iopub.status.idle": "2023-07-03T20:42:40.114972Z",
     "shell.execute_reply": "2023-07-03T20:42:40.114027Z"
    },
    "papermill": {
     "duration": 3.809341,
     "end_time": "2023-07-03T20:42:40.116990",
     "exception": false,
     "start_time": "2023-07-03T20:42:36.307649",
     "status": "completed"
    },
    "tags": []
   },
   "outputs": [
    {
     "data": {
      "text/plain": [
       "[<matplotlib.lines.Line2D at 0x7a8aa7421990>]"
      ]
     },
     "execution_count": 44,
     "metadata": {},
     "output_type": "execute_result"
    },
    {
     "data": {
      "image/png": "[encoded data removed]",
      "text/plain": [
       "<Figure size 640x480 with 1 Axes>"
      ]
     },
     "metadata": {},
     "output_type": "display_data"
    }
   ],
   "source": [
    "from matplotlib import pyplot as plt\n",
    "plt.plot (list(v_train),c='r')\n",
    "plt.plot (list(l_train),c='b')\n"
   ]
  },
  {
   "cell_type": "code",
   "execution_count": 45,
   "id": "49892fd0",
   "metadata": {
    "execution": {
     "iopub.execute_input": "2023-07-03T20:42:47.382239Z",
     "iopub.status.busy": "2023-07-03T20:42:47.381882Z",
     "iopub.status.idle": "2023-07-03T20:42:55.629963Z",
     "shell.execute_reply": "2023-07-03T20:42:55.628944Z"
    },
    "papermill": {
     "duration": 11.837235,
     "end_time": "2023-07-03T20:42:55.632696",
     "exception": false,
     "start_time": "2023-07-03T20:42:43.795461",
     "status": "completed"
    },
    "tags": []
   },
   "outputs": [],
   "source": [
    "from tensorflow.keras.preprocessing.sequence import pad_sequences\n",
    "\n",
    "def change4(x):\n",
    "    return torch.tensor(pad_sequences([[vocab[i]  for i in simple_preprocess(x) ]] ,maxlen=4,value=0))"
   ]
  },
  {
   "cell_type": "code",
   "execution_count": 46,
   "id": "12d4c564",
   "metadata": {
    "execution": {
     "iopub.execute_input": "2023-07-03T20:43:02.766632Z",
     "iopub.status.busy": "2023-07-03T20:43:02.765755Z",
     "iopub.status.idle": "2023-07-03T20:43:02.773640Z",
     "shell.execute_reply": "2023-07-03T20:43:02.772673Z"
    },
    "papermill": {
     "duration": 3.45916,
     "end_time": "2023-07-03T20:43:02.776047",
     "exception": false,
     "start_time": "2023-07-03T20:42:59.316887",
     "status": "completed"
    },
    "tags": []
   },
   "outputs": [],
   "source": [
    "from tensorflow.keras.preprocessing.sequence import pad_sequences\n",
    "\n",
    "def change5(x):\n",
    "    return torch.tensor(pad_sequences([[vocab[i]  for i in simple_preprocess(x) ]] ,maxlen=5,value=0))"
   ]
  },
  {
   "cell_type": "code",
   "execution_count": 47,
   "id": "bdeb4558",
   "metadata": {
    "execution": {
     "iopub.execute_input": "2023-07-03T20:43:10.004324Z",
     "iopub.status.busy": "2023-07-03T20:43:10.003952Z",
     "iopub.status.idle": "2023-07-03T20:43:10.009597Z",
     "shell.execute_reply": "2023-07-03T20:43:10.008563Z"
    },
    "papermill": {
     "duration": 3.53455,
     "end_time": "2023-07-03T20:43:10.011896",
     "exception": false,
     "start_time": "2023-07-03T20:43:06.477346",
     "status": "completed"
    },
    "tags": []
   },
   "outputs": [],
   "source": [
    "from tensorflow.keras.preprocessing.sequence import pad_sequences\n",
    "\n",
    "def change6(x):\n",
    "    return torch.tensor(pad_sequences([[vocab[i]  for i in simple_preprocess(x) ]] ,maxlen=6,value=0))"
   ]
  },
  {
   "cell_type": "code",
   "execution_count": 48,
   "id": "c1a7313e",
   "metadata": {
    "execution": {
     "iopub.execute_input": "2023-07-03T20:43:17.285157Z",
     "iopub.status.busy": "2023-07-03T20:43:17.284711Z",
     "iopub.status.idle": "2023-07-03T20:43:19.258732Z",
     "shell.execute_reply": "2023-07-03T20:43:19.257457Z"
    },
    "papermill": {
     "duration": 5.619615,
     "end_time": "2023-07-03T20:43:19.261383",
     "exception": false,
     "start_time": "2023-07-03T20:43:13.641768",
     "status": "completed"
    },
    "tags": []
   },
   "outputs": [
    {
     "name": "stdout",
     "output_type": "stream",
     "text": [
      "started who have access to find which words are the most relevant to our classification while we still have access to the coefficients of our\n"
     ]
    }
   ],
   "source": [
    "st='my name is mohamed i am egyptian so i am'\n",
    "st=change6(st)[0][-5:].cuda()\n",
    "l=len(st)\n",
    "word=[]\n",
    "while l<30:\n",
    "    idx=torch.argmax(model6(torch.tensor(st[None]).cuda()))\n",
    "    word.append(inx_word[idx.item()])\n",
    "    st=torch.concat( [st[-4:],torch.tensor([idx]).cuda()] )\n",
    "    l+=1\n",
    "print(' '.join(word))    "
   ]
  },
  {
   "cell_type": "code",
   "execution_count": 49,
   "id": "5309acf0",
   "metadata": {
    "execution": {
     "iopub.execute_input": "2023-07-03T20:43:26.755314Z",
     "iopub.status.busy": "2023-07-03T20:43:26.754940Z",
     "iopub.status.idle": "2023-07-03T20:43:26.815044Z",
     "shell.execute_reply": "2023-07-03T20:43:26.813825Z"
    },
    "papermill": {
     "duration": 3.707543,
     "end_time": "2023-07-03T20:43:26.817100",
     "exception": false,
     "start_time": "2023-07-03T20:43:23.109557",
     "status": "completed"
    },
    "tags": []
   },
   "outputs": [
    {
     "name": "stdout",
     "output_type": "stream",
     "text": [
      "offer where two isn large companies that are case study taught in startups that uses their artwork his concept of the chat its naive point for\n"
     ]
    }
   ],
   "source": [
    "st='my name is mohamed i am egyptian '\n",
    "st=change5(st)[0][-4:].cuda()\n",
    "l=len(st)\n",
    "word=[]\n",
    "while l<30:\n",
    "    idx=torch.argmax(model5(torch.tensor(st[None]).cuda()))\n",
    "    word.append(inx_word[idx.item()])\n",
    "    st=torch.concat( [st[-3:],torch.tensor([idx]).cuda()] )\n",
    "    l+=1\n",
    "print(' '.join(word))    "
   ]
  },
  {
   "cell_type": "code",
   "execution_count": 50,
   "id": "583cb407",
   "metadata": {
    "execution": {
     "iopub.execute_input": "2023-07-03T20:43:33.926339Z",
     "iopub.status.busy": "2023-07-03T20:43:33.925956Z",
     "iopub.status.idle": "2023-07-03T20:43:33.951190Z",
     "shell.execute_reply": "2023-07-03T20:43:33.950168Z"
    },
    "papermill": {
     "duration": 3.643106,
     "end_time": "2023-07-03T20:43:33.953142",
     "exception": false,
     "start_time": "2023-07-03T20:43:30.310036",
     "status": "completed"
    },
    "tags": []
   },
   "outputs": [
    {
     "name": "stdout",
     "output_type": "stream",
     "text": [
      "still had most powerful space of your skills can\n"
     ]
    }
   ],
   "source": [
    "st='my name is mohamed i am egyptian so i am '\n",
    "st=change4(st)[0][-3:].cuda()\n",
    "l=0\n",
    "word=[]\n",
    "while l<9:\n",
    "    idx=torch.argmax(model(torch.tensor(st[None]).cuda()))\n",
    "    word.append(inx_word[idx.item()])\n",
    "    st=torch.concat( [st[-2:],torch.tensor([idx]).cuda()] )\n",
    "    l+=1\n",
    "print(' '.join(word))    "
   ]
  },
  {
   "cell_type": "code",
   "execution_count": 51,
   "id": "43cb76e6",
   "metadata": {
    "execution": {
     "iopub.execute_input": "2023-07-03T20:43:41.114079Z",
     "iopub.status.busy": "2023-07-03T20:43:41.113721Z",
     "iopub.status.idle": "2023-07-03T20:43:41.379425Z",
     "shell.execute_reply": "2023-07-03T20:43:41.378412Z"
    },
    "papermill": {
     "duration": 3.900055,
     "end_time": "2023-07-03T20:43:41.381858",
     "exception": false,
     "start_time": "2023-07-03T20:43:37.481803",
     "status": "completed"
    },
    "tags": []
   },
   "outputs": [],
   "source": [
    "torch.save(model.state_dict(),'model.pth')"
   ]
  },
  {
   "cell_type": "code",
   "execution_count": 52,
   "id": "461dac90",
   "metadata": {
    "execution": {
     "iopub.execute_input": "2023-07-03T20:43:48.497141Z",
     "iopub.status.busy": "2023-07-03T20:43:48.496788Z",
     "iopub.status.idle": "2023-07-03T20:43:48.755328Z",
     "shell.execute_reply": "2023-07-03T20:43:48.754374Z"
    },
    "papermill": {
     "duration": 3.819424,
     "end_time": "2023-07-03T20:43:48.757770",
     "exception": false,
     "start_time": "2023-07-03T20:43:44.938346",
     "status": "completed"
    },
    "tags": []
   },
   "outputs": [],
   "source": [
    "torch.save(model6.state_dict(),'model6.pth')"
   ]
  },
  {
   "cell_type": "code",
   "execution_count": 53,
   "id": "52c9f07c",
   "metadata": {
    "execution": {
     "iopub.execute_input": "2023-07-03T20:43:56.413737Z",
     "iopub.status.busy": "2023-07-03T20:43:56.413380Z",
     "iopub.status.idle": "2023-07-03T20:43:56.461662Z",
     "shell.execute_reply": "2023-07-03T20:43:56.460244Z"
    },
    "papermill": {
     "duration": 3.519013,
     "end_time": "2023-07-03T20:43:56.464166",
     "exception": false,
     "start_time": "2023-07-03T20:43:52.945153",
     "status": "completed"
    },
    "tags": []
   },
   "outputs": [
    {
     "data": {
      "text/plain": [
       "OrderedDict([('embedding.weight',\n",
       "              tensor([[-2.1392, -1.0212,  0.1478,  ...,  0.0662,  1.0020,  0.3603],\n",
       "                      [-0.1445, -0.4446, -0.8705,  ..., -1.1417,  0.9226,  1.0231],\n",
       "                      [ 0.3734, -1.2435,  0.6849,  ..., -1.1884,  0.6829,  0.2082],\n",
       "                      ...,\n",
       "                      [-0.7910, -0.2219, -1.4520,  ..., -0.7714, -0.9203,  0.3345],\n",
       "                      [-0.5111, -0.3273,  0.3274,  ...,  1.0000, -0.0437,  0.5314],\n",
       "                      [-0.4735,  0.6184, -2.0686,  ..., -0.0277, -0.7766, -0.2770]],\n",
       "                     device='cuda:0')),\n",
       "             ('lstm1.weight_ih_l0',\n",
       "              tensor([[ 0.1461,  0.0530,  0.6054,  ..., -0.1822,  0.3148, -0.0791],\n",
       "                      [ 0.0440, -0.0702, -0.2809,  ...,  0.2234,  0.2337, -0.0354],\n",
       "                      [ 0.3021, -0.1954,  0.3931,  ..., -0.1930, -0.1739, -0.5284],\n",
       "                      ...,\n",
       "                      [-0.6053, -0.3604, -0.1271,  ..., -0.4603, -0.8400, -0.3926],\n",
       "                      [-0.5838, -0.0447,  0.2504,  ...,  0.3184,  0.0052, -0.2990],\n",
       "                      [ 0.4680,  0.0231, -0.6894,  ..., -0.3438,  0.4068, -0.1273]],\n",
       "                     device='cuda:0')),\n",
       "             ('lstm1.weight_hh_l0',\n",
       "              tensor([[ 0.4589, -0.1178, -0.4731,  ..., -0.1075,  0.0704,  0.1199],\n",
       "                      [-0.0334,  0.2362, -0.4181,  ...,  0.6472,  0.4797,  0.2076],\n",
       "                      [-0.1715, -0.2772, -0.5552,  ...,  0.0987, -0.3274, -0.4151],\n",
       "                      ...,\n",
       "                      [ 0.0946, -0.1738,  0.2228,  ..., -0.2192, -0.1257, -0.4499],\n",
       "                      [ 0.3819,  0.0172, -0.8593,  ...,  0.0994,  0.4362,  0.3214],\n",
       "                      [-0.0029, -0.1804, -0.2857,  ..., -0.0246,  0.4851,  0.3882]],\n",
       "                     device='cuda:0')),\n",
       "             ('lstm1.bias_ih_l0',\n",
       "              tensor([-0.2479, -0.2944, -0.3937,  ..., -0.2855, -0.7465, -0.4691],\n",
       "                     device='cuda:0')),\n",
       "             ('lstm1.bias_hh_l0',\n",
       "              tensor([-0.2429, -0.3407, -0.4415,  ..., -0.2901, -0.7130, -0.4736],\n",
       "                     device='cuda:0')),\n",
       "             ('lstm1.weight_ih_l1',\n",
       "              tensor([[-0.0506,  0.9136, -0.0123,  ..., -0.1689, -0.2744, -0.0942],\n",
       "                      [ 0.2209, -0.4164,  0.0973,  ..., -0.5338, -0.5983,  0.1125],\n",
       "                      [ 0.4420,  0.5253,  0.1775,  ...,  0.4288, -0.0865,  0.5961],\n",
       "                      ...,\n",
       "                      [-0.3833,  0.3465,  0.3169,  ..., -0.0654, -0.1175, -0.4609],\n",
       "                      [-0.1692, -0.2994,  0.2437,  ..., -0.0317, -0.3664,  0.1500],\n",
       "                      [-0.0952,  0.2015,  0.0769,  ...,  0.3347,  0.0367,  0.0876]],\n",
       "                     device='cuda:0')),\n",
       "             ('lstm1.weight_hh_l1',\n",
       "              tensor([[-0.0315, -0.5636, -0.0649,  ...,  0.6701, -0.2366,  0.0243],\n",
       "                      [-0.4833,  0.1160,  0.0746,  ..., -0.2803, -0.4209,  0.0958],\n",
       "                      [-0.0698, -0.2708,  0.0423,  ..., -0.1917,  0.1479, -0.4104],\n",
       "                      ...,\n",
       "                      [ 0.1941, -1.2454, -0.1952,  ..., -0.7925, -0.0376,  0.4067],\n",
       "                      [ 0.0316, -0.2567, -0.0429,  ...,  0.1962,  0.2170, -0.0709],\n",
       "                      [-0.1570,  0.2253, -0.1934,  ..., -0.4678, -0.1948,  0.1991]],\n",
       "                     device='cuda:0')),\n",
       "             ('lstm1.bias_ih_l1',\n",
       "              tensor([-0.2908, -0.1691, -0.4545,  ..., -0.2468, -0.4004, -0.2728],\n",
       "                     device='cuda:0')),\n",
       "             ('lstm1.bias_hh_l1',\n",
       "              tensor([-0.2985, -0.1786, -0.4799,  ..., -0.2504, -0.4270, -0.2309],\n",
       "                     device='cuda:0')),\n",
       "             ('linear.weight',\n",
       "              tensor([[-0.0207,  0.1865,  0.4496,  ..., -0.1457,  0.0033, -0.1379],\n",
       "                      [-0.1650, -0.2010,  0.5435,  ...,  0.3425, -0.1801,  0.0264],\n",
       "                      [-0.0318,  0.4072,  0.5498,  ...,  0.5938,  0.3701, -0.4213],\n",
       "                      ...,\n",
       "                      [-0.0079,  0.1720,  0.4404,  ..., -0.1561,  0.0151, -0.1433],\n",
       "                      [-0.0187,  0.2013,  0.4389,  ..., -0.1489,  0.0036, -0.1319],\n",
       "                      [-0.0207,  0.1824,  0.4426,  ..., -0.1540,  0.0153, -0.1358]],\n",
       "                     device='cuda:0')),\n",
       "             ('linear.bias',\n",
       "              tensor([-11.2814,  -2.2464,  -1.2233,  ..., -11.3840, -11.3008, -11.3309],\n",
       "                     device='cuda:0'))])"
      ]
     },
     "execution_count": 53,
     "metadata": {},
     "output_type": "execute_result"
    }
   ],
   "source": [
    "model6.state_dict()"
   ]
  },
  {
   "cell_type": "code",
   "execution_count": 54,
   "id": "c0f2a5cb",
   "metadata": {
    "execution": {
     "iopub.execute_input": "2023-07-03T20:44:03.761914Z",
     "iopub.status.busy": "2023-07-03T20:44:03.761563Z",
     "iopub.status.idle": "2023-07-03T20:44:05.313312Z",
     "shell.execute_reply": "2023-07-03T20:44:05.312237Z"
    },
    "papermill": {
     "duration": 5.146372,
     "end_time": "2023-07-03T20:44:05.315672",
     "exception": false,
     "start_time": "2023-07-03T20:44:00.169300",
     "status": "completed"
    },
    "tags": []
   },
   "outputs": [],
   "source": [
    "model_scripted = torch.jit.script(model) # Export to TorchScript\n",
    "model_scripted.save('model_scripted.pt') # Save\n",
    "model_scripted = torch.jit.script(model5) # Export to TorchScript\n",
    "model_scripted.save('model5_scripted.pt') # Save\n",
    "model_scripted = torch.jit.script(model6) # Export to TorchScript\n",
    "model_scripted.save('model6_scripted.pt') # Save\n",
    "model_scripted = torch.jit.script(model7) # Export to TorchScript\n",
    "model_scripted.save('model7_scripted.pt') # Save\n"
   ]
  },
  {
   "cell_type": "code",
   "execution_count": 55,
   "id": "d8133f8d",
   "metadata": {
    "execution": {
     "iopub.execute_input": "2023-07-03T20:44:12.516292Z",
     "iopub.status.busy": "2023-07-03T20:44:12.515671Z",
     "iopub.status.idle": "2023-07-03T20:44:12.561921Z",
     "shell.execute_reply": "2023-07-03T20:44:12.561046Z"
    },
    "papermill": {
     "duration": 3.764159,
     "end_time": "2023-07-03T20:44:12.563897",
     "exception": false,
     "start_time": "2023-07-03T20:44:08.799738",
     "status": "completed"
    },
    "tags": []
   },
   "outputs": [],
   "source": [
    "import json\n",
    "\n",
    "with open('word.json', 'w') as file:\n",
    "    json.dump(vocab,file)"
   ]
  },
  {
   "cell_type": "code",
   "execution_count": 56,
   "id": "4dca67da",
   "metadata": {
    "execution": {
     "iopub.execute_input": "2023-07-03T20:44:20.102399Z",
     "iopub.status.busy": "2023-07-03T20:44:20.101409Z",
     "iopub.status.idle": "2023-07-03T20:44:20.162253Z",
     "shell.execute_reply": "2023-07-03T20:44:20.161372Z"
    },
    "papermill": {
     "duration": 3.911554,
     "end_time": "2023-07-03T20:44:20.164581",
     "exception": false,
     "start_time": "2023-07-03T20:44:16.253027",
     "status": "completed"
    },
    "tags": []
   },
   "outputs": [],
   "source": [
    "import json\n",
    "with open('index.json', 'w') as file:\n",
    "    json.dump(inx_word,file)"
   ]
  },
  {
   "cell_type": "code",
   "execution_count": null,
   "id": "b99b4bd8",
   "metadata": {
    "papermill": {
     "duration": 4.080485,
     "end_time": "2023-07-03T20:44:27.830871",
     "exception": false,
     "start_time": "2023-07-03T20:44:23.750386",
     "status": "completed"
    },
    "tags": []
   },
   "outputs": [],
   "source": []
  }
 ],
 "metadata": {
  "kernelspec": {
   "display_name": "Python 3",
   "language": "python",
   "name": "python3"
  },
  "language_info": {
   "codemirror_mode": {
    "name": "ipython",
    "version": 3
   },
   "file_extension": ".py",
   "mimetype": "text/x-python",
   "name": "python",
   "nbconvert_exporter": "python",
   "pygments_lexer": "ipython3",
   "version": "3.10.10"
  },
  "papermill": {
   "default_parameters": {},
   "duration": 7735.55192,
   "end_time": "2023-07-03T20:44:34.502418",
   "environment_variables": {},
   "exception": null,
   "input_path": "__notebook__.ipynb",
   "output_path": "__notebook__.ipynb",
   "parameters": {},
   "start_time": "2023-07-03T18:35:38.950498",
   "version": "2.4.0"
  }
 },
 "nbformat": 4,
 "nbformat_minor": 5
}
